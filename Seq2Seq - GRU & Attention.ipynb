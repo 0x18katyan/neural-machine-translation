{
 "cells": [
  {
   "cell_type": "code",
   "execution_count": 1,
   "metadata": {},
   "outputs": [],
   "source": [
    "import torch\n",
    "import torch.nn as nn\n",
    "\n",
    "import torch.nn.functional as F\n",
    "\n",
    "from torch.cuda.amp import autocast, GradScaler\n",
    "\n",
    "from torch.utils.tensorboard import SummaryWriter"
   ]
  },
  {
   "cell_type": "code",
   "execution_count": 2,
   "metadata": {},
   "outputs": [],
   "source": [
    "from torchtext.legacy.data import BucketIterator, Field, TabularDataset"
   ]
  },
  {
   "cell_type": "code",
   "execution_count": 3,
   "metadata": {},
   "outputs": [],
   "source": [
    "import warnings\n",
    "warnings.filterwarnings('ignore')"
   ]
  },
  {
   "cell_type": "code",
   "execution_count": 4,
   "metadata": {},
   "outputs": [],
   "source": [
    "import random\n",
    "import json\n",
    "import time"
   ]
  },
  {
   "cell_type": "code",
   "execution_count": 5,
   "metadata": {},
   "outputs": [],
   "source": [
    "import spacy\n",
    "import pkbar"
   ]
  },
  {
   "cell_type": "code",
   "execution_count": 6,
   "metadata": {},
   "outputs": [],
   "source": [
    "SEED = 42069\n",
    "\n",
    "random.seed(SEED)\n",
    "# np.random.seed(SEED)\n",
    "torch.manual_seed(SEED)\n",
    "torch.cuda.manual_seed(SEED)\n",
    "torch.backends.cudnn.deterministic = True"
   ]
  },
  {
   "cell_type": "code",
   "execution_count": 7,
   "metadata": {},
   "outputs": [],
   "source": [
    "device = \"cuda\" if torch.cuda.is_available() else \"cpu\"\n",
    "# device =\"cpu\""
   ]
  },
  {
   "cell_type": "code",
   "execution_count": 8,
   "metadata": {},
   "outputs": [],
   "source": [
    "# !python -m spacy download en_core_web_sm\n",
    "# !python -m spacy download es_core_web_sm"
   ]
  },
  {
   "cell_type": "code",
   "execution_count": 9,
   "metadata": {},
   "outputs": [],
   "source": [
    "spacy_esp = spacy.load('es_core_news_sm')\n",
    "spacy_en = spacy.load('en_core_web_sm')"
   ]
  },
  {
   "cell_type": "code",
   "execution_count": 10,
   "metadata": {},
   "outputs": [],
   "source": [
    "def tokenize_esp(text):\n",
    "#     return [tok.text for tok in spacy_esp.tokenizer(text)]\n",
    "    return [tok.text for tok in spacy_esp.tokenizer(text)][::-1] ##Reversing as stated in seq2seq paper\n",
    "\n",
    "def tokenize_en(text):\n",
    "    return [tok.text for tok in spacy_en.tokenizer(text)]"
   ]
  },
  {
   "cell_type": "code",
   "execution_count": 11,
   "metadata": {},
   "outputs": [],
   "source": [
    "SRC = Field(sequential = True, \n",
    "            tokenize = tokenize_en, \n",
    "            init_token = \"<sos>\",\n",
    "            eos_token = \"<eos>\",\n",
    "            lower=True,\n",
    "            batch_first=True)"
   ]
  },
  {
   "cell_type": "code",
   "execution_count": 12,
   "metadata": {},
   "outputs": [],
   "source": [
    "# !python -m spacy download es_core_news_lg"
   ]
  },
  {
   "cell_type": "code",
   "execution_count": 13,
   "metadata": {},
   "outputs": [],
   "source": [
    "TRG = Field(sequential = True,\n",
    "           tokenize=tokenize_esp,\n",
    "           init_token='<sos>',\n",
    "           eos_token='<eos>',\n",
    "           lower=True,\n",
    "           batch_first=True)"
   ]
  },
  {
   "cell_type": "code",
   "execution_count": 14,
   "metadata": {},
   "outputs": [],
   "source": [
    "datasetfields = [(\"eng\", SRC),(\"spa\", TRG)]"
   ]
  },
  {
   "cell_type": "code",
   "execution_count": 15,
   "metadata": {},
   "outputs": [],
   "source": [
    "data =  TabularDataset('./eng-spa.csv', format='csv', fields=datasetfields, skip_header=True)"
   ]
  },
  {
   "cell_type": "code",
   "execution_count": 16,
   "metadata": {},
   "outputs": [],
   "source": [
    "train_data, val_data, test_data = data.split([0.8, 0.1, 0.1])"
   ]
  },
  {
   "cell_type": "code",
   "execution_count": null,
   "metadata": {},
   "outputs": [],
   "source": [
    "SRC.build_vocab(train_data, min_freq=1)\n",
    "TRG.build_vocab(train_data, min_freq=1)"
   ]
  },
  {
   "cell_type": "code",
   "execution_count": null,
   "metadata": {},
   "outputs": [],
   "source": [
    "eng_vocab = SRC.vocab\n",
    "spa_vocab = TRG.vocab"
   ]
  },
  {
   "cell_type": "code",
   "execution_count": null,
   "metadata": {},
   "outputs": [],
   "source": [
    "batch_size = 256"
   ]
  },
  {
   "cell_type": "code",
   "execution_count": null,
   "metadata": {},
   "outputs": [],
   "source": [
    "train_iter, val_iter, test_iter = BucketIterator.splits((train_data, val_data, test_data), batch_size=batch_size, sort_key=lambda x: len(x.eng))"
   ]
  },
  {
   "cell_type": "code",
   "execution_count": null,
   "metadata": {},
   "outputs": [],
   "source": [
    "class Encoder(nn.Module):\n",
    "    \n",
    "    def __init__(self, vocab, hidden_dim, encoder_embedding_dim, num_layers, dropout):\n",
    "        \n",
    "        super(Encoder, self).__init__() \n",
    "        \n",
    "        self.vocab_size = len(vocab.itos)\n",
    "        self.embedding_dim = encoder_embedding_dim\n",
    "        self.num_layers = num_layers\n",
    "        self.hidden_dim = hidden_dim\n",
    "        \n",
    "        self.emb = nn.Embedding(num_embeddings=self.vocab_size, embedding_dim=self.embedding_dim, padding_idx=1)\n",
    "        \n",
    "        self.GRU = nn.GRU(self.embedding_dim, hidden_dim, num_layers=self.num_layers, dropout=dropout, batch_first=True, bidirectional=True)\n",
    "        \n",
    "        self.dropout = nn.Dropout(dropout)\n",
    "        \n",
    "    def forward(self, sentence, hidden_state):\n",
    "        \n",
    "        embedded = self.dropout(self.emb(sentence))\n",
    "        \n",
    "        out, hidden_state = self.GRU(embedded, hidden_state)\n",
    "        \n",
    "        return out, hidden_state\n",
    "    \n",
    "    def initHidden(self, BATCH_SIZE):\n",
    "        return torch.zeros(self.num_layers * 2, BATCH_SIZE ,self.hidden_dim)\n"
   ]
  },
  {
   "cell_type": "code",
   "execution_count": null,
   "metadata": {},
   "outputs": [],
   "source": [
    "class Decoder(nn.Module):\n",
    "    \n",
    "    def __init__(self, vocab, hidden_dim, embedding_dim, num_layers, dropout):\n",
    "        \n",
    "        super(Decoder, self).__init__()\n",
    "        \n",
    "        self.vocab_size = len(vocab.itos)\n",
    "        self.hidden_dim = hidden_dim\n",
    "        self.num_layers = num_layers\n",
    "        self.embedding_dim = embedding_dim\n",
    "        \n",
    "        self.GRU = nn.GRU(self.embedding_dim, hidden_dim, num_layers=self.num_layers, batch_first=True, dropout=dropout)\n",
    "        \n",
    "        self.embedding = nn.Embedding(self.vocab_size, embedding_dim=self.embedding_dim, padding_idx=1)\n",
    "        \n",
    "        self.dropout = nn.Dropout(dropout)\n",
    "        \n",
    "        #self.FC = nn.Linear(3072, 1024)\n",
    "        \n",
    "    def forward(self, y, hidden_state, context_vector):\n",
    "        \n",
    "        y = self.dropout(self.embedding(y))\n",
    "        \n",
    "        #print(\"y after embedding and dropout\", y.shape)\n",
    "        #print(\"context vector shape\", context_vector.shape)\n",
    "        \n",
    "        #y = torch.cat((context_vector, y), dim=-1)\n",
    "        \n",
    "        #y = self.FC(y)\n",
    "        #y = F.relu(y)\n",
    "        \n",
    "        rnn_out, decoder_hidden_state = self.GRU(y, hidden_state)\n",
    "                        \n",
    "        return rnn_out, decoder_hidden_state"
   ]
  },
  {
   "cell_type": "code",
   "execution_count": null,
   "metadata": {},
   "outputs": [],
   "source": [
    "class Seq2Seq(nn.Module):\n",
    "    def __init__(self, hidden_dim, embedding_dim, hidden_layers, english_vocab, spanish_vocab, dropout):\n",
    "        super().__init__()\n",
    "        \n",
    "        self.hidden_dim = hidden_dim\n",
    "        self.embedding_dim = embedding_dim\n",
    "        self.hidden_layers = hidden_layers\n",
    "        \n",
    "        self.eng_vocab = english_vocab\n",
    "        self.spa_vocab = spanish_vocab\n",
    "        \n",
    "        self.encoder = Encoder(self.eng_vocab, hidden_dim, embedding_dim, hidden_layers, dropout)\n",
    "        self.decoder = Decoder(self.spa_vocab, hidden_dim, embedding_dim, hidden_layers * 2, dropout)\n",
    "        \n",
    "        self.AttentionFC = nn.Linear(hidden_dim, self.decoder.vocab_size, bias=False)\n",
    "\n",
    "    def DotProductAttention(self, encoder_outputs, decoder_hidden_state):\n",
    "        \n",
    "        current_b_size = encoder_outputs.shape[0]\n",
    "        \n",
    "        encoder_outputs = encoder_outputs.view(current_b_size, -1,  2, self.hidden_dim)\n",
    "#         print(\"encoder_outputs before concat\", encoder_outputs.shape)\n",
    "        encoder_outputs = torch.cat((encoder_outputs[:, :, 0, :], encoder_outputs[:, :, 1, :]), 1)\n",
    "        \n",
    "#         print(\"encoder outputs after concat\", encoder_outputs.shape)\n",
    "        score = torch.bmm(decoder_hidden_state.permute(1, 0, 2), encoder_outputs.permute(0, 2, 1))\n",
    "#         print(\"score\", score.shape)\n",
    "        attention_weights = F.softmax(score, dim=-1)\n",
    "#         print(\"attention weights shape\", attention_weights.shape)\n",
    "        context_vector = torch.bmm(attention_weights, encoder_outputs)\n",
    "#         print(\"context_vector shape\", context_vector.shape)\n",
    "        #context_vector = torch.sum(context_vector, dim=1, keepdim=True)\n",
    "        #print(\"context_vector shape\", context_vector.shape)\n",
    "        #print(context_vector)\n",
    "        return context_vector, attention_weights\n",
    "    \n",
    "    def forward(self, x, y, teacher_forcing = 0):        \n",
    "        current_batch_size, max_seq_len = y.shape\n",
    "\n",
    "        encoder_hidden = self.encoder.initHidden(current_batch_size).to(device)\n",
    "        encoder_outputs, encoder_hidden = self.encoder.forward(x, encoder_hidden)\n",
    "        \n",
    "        #encoder_outputs, encoder_hidden = self.encoder.forward(x)        \n",
    "        \n",
    "        decoder_hidden = encoder_hidden\n",
    "\n",
    "        del encoder_hidden\n",
    "\n",
    "        outputs = torch.zeros(size=(max_seq_len - 1, current_batch_size, self.decoder.vocab_size)).to(device)\n",
    "\n",
    "        prev_word = torch.zeros_like(y[:, 0])\n",
    "\n",
    "        for i in range(max_seq_len - 1):\n",
    "            \n",
    "            context_vector, attention_weights = self.DotProductAttention(encoder_outputs, decoder_hidden)\n",
    "            \n",
    "            if random.random() < teacher_forcing: #Teacher forcing\n",
    "                \n",
    "                #print(\"Context Vector Shape\", context_vector.shape, \"y[:, i] shape\", y[:, i].unsqueeze(1).shape)\n",
    "                \n",
    "                rnn_out, decoder_hidden = self.decoder.forward(y[:, i].unsqueeze(1), decoder_hidden, context_vector)\n",
    "            else:\n",
    "                rnn_out, decoder_hidden = self.decoder.forward(prev_word.unsqueeze(1), decoder_hidden, context_vector) \n",
    "            \n",
    "            #print(rnn_out.shape, decoder_hidden.shape)\n",
    "            logits = self.AttentionFC(rnn_out)\n",
    "            \n",
    "            prev_word = logits.argmax(dim=-1).squeeze(1)\n",
    "            \n",
    "            outputs[i] = logits.squeeze(1)\n",
    "        \n",
    "        return outputs"
   ]
  },
  {
   "cell_type": "code",
   "execution_count": null,
   "metadata": {},
   "outputs": [],
   "source": [
    "hidden_dim = 1024\n",
    "hidden_layers = 2\n",
    "embedding_dim = 512\n",
    "\n",
    "dropout = 0.7"
   ]
  },
  {
   "cell_type": "code",
   "execution_count": null,
   "metadata": {},
   "outputs": [],
   "source": [
    "model = Seq2Seq(hidden_dim=hidden_dim, embedding_dim=embedding_dim, hidden_layers=hidden_layers, english_vocab=eng_vocab, spanish_vocab=spa_vocab, dropout=dropout).to(device)"
   ]
  },
  {
   "cell_type": "code",
   "execution_count": null,
   "metadata": {},
   "outputs": [],
   "source": [
    "def init_weights(model):\n",
    "    for param_name, parameter in model.named_parameters():\n",
    "        nn.init.uniform_(parameter.data, -0.08, 0.08)\n",
    "        \n",
    "model.apply(init_weights)"
   ]
  },
  {
   "cell_type": "code",
   "execution_count": null,
   "metadata": {},
   "outputs": [],
   "source": [
    "# outputs = model.forward(x, y, teacher_forcing)"
   ]
  },
  {
   "cell_type": "code",
   "execution_count": null,
   "metadata": {},
   "outputs": [],
   "source": [
    "def configure_optimizers(model, lr=1e-3):\n",
    "    return torch.optim.Adam(model.parameters(), lr=lr)"
   ]
  },
  {
   "cell_type": "code",
   "execution_count": null,
   "metadata": {},
   "outputs": [],
   "source": [
    "def configure_sgd(model, lr=0.01):\n",
    "    optimizer = torch.optim.SGD(model.parameters(), lr=lr)\n",
    "    return optimizer"
   ]
  },
  {
   "cell_type": "code",
   "execution_count": null,
   "metadata": {},
   "outputs": [],
   "source": [
    "# outputs = model.forward(x, y, teacher_forcing)"
   ]
  },
  {
   "cell_type": "code",
   "execution_count": null,
   "metadata": {},
   "outputs": [],
   "source": [
    "optimizer = configure_optimizers(model)\n",
    "\n",
    "# lr = 0.01 # learning rate\n",
    "# optimizer = torch.optim.SGD(model.parameters(), lr=lr)\n",
    "#scheduler = torch.optim.lr_scheduler.StepLR(optimizer, 1.0, gamma=0.95)\n"
   ]
  },
  {
   "cell_type": "code",
   "execution_count": null,
   "metadata": {},
   "outputs": [],
   "source": [
    "criterion = nn.CrossEntropyLoss(ignore_index=1)"
   ]
  },
  {
   "cell_type": "code",
   "execution_count": null,
   "metadata": {},
   "outputs": [],
   "source": [
    "scaler = GradScaler()"
   ]
  },
  {
   "cell_type": "code",
   "execution_count": null,
   "metadata": {},
   "outputs": [],
   "source": [
    "def train_step(model, optimizer, x, y, teacher_forcing = 0.5, clip=1.0, fp16=False):\n",
    "    \n",
    "    #torch.cuda.empty_cache()\n",
    "    \n",
    "    optimizer.zero_grad(set_to_none=True)\n",
    "    \n",
    "    model.train()\n",
    "        \n",
    "    with autocast(fp16):\n",
    "        outputs = model.forward(x, y, teacher_forcing)\n",
    "        loss = criterion(outputs.permute(1, 2, 0), y[:, 1:])\n",
    "    \n",
    "    \n",
    "    scaler.scale(loss).backward()\n",
    "    \n",
    "    scaler.unscale_(optimizer) ##Need to unscale before clipping\n",
    "\n",
    "    torch.nn.utils.clip_grad_norm_(model.parameters(), clip)\n",
    "\n",
    "    scaler.step(optimizer)\n",
    "    \n",
    "    scaler.update()\n",
    "    \n",
    "    optimizer.zero_grad(set_to_none=True)\n",
    "\n",
    "    return loss"
   ]
  },
  {
   "cell_type": "code",
   "execution_count": null,
   "metadata": {},
   "outputs": [],
   "source": [
    "def evaluate(model, iterator):\n",
    "    \n",
    "    model.eval()\n",
    "    \n",
    "    eval_loss = 0\n",
    "    \n",
    "    with torch.no_grad():\n",
    "        \n",
    "        for _, batch in enumerate(iterator):\n",
    "            \n",
    "            x, y = batch.eng, batch.spa\n",
    "\n",
    "            x = x.to(device)\n",
    "            y = y.to(device)\n",
    "\n",
    "            outputs = model.forward(x, y, teacher_forcing=0)\n",
    "            loss = criterion(outputs.permute(1, 2, 0), y[:, 1:]) \n",
    "            \n",
    "            eval_loss += loss.item()\n",
    "            \n",
    "    return eval_loss / len(iterator)"
   ]
  },
  {
   "cell_type": "code",
   "execution_count": null,
   "metadata": {},
   "outputs": [],
   "source": [
    "epochs = 200 # For 10 hours\n",
    "\n",
    "fp16=True\n",
    "\n",
    "gradient_clip = 6.0\n",
    "teacher_forcing = 0.3"
   ]
  },
  {
   "cell_type": "code",
   "execution_count": null,
   "metadata": {},
   "outputs": [],
   "source": [
    "logdir = \"attention-logs/{}\".format(time.ctime())\n",
    "\n",
    "experiment_description = \"Attention Version: 0.2.1: With Reversed\"\n",
    "\n",
    "writer = SummaryWriter(log_dir=logdir, comment=experiment_description)\n",
    "\n",
    "writer.add_text(\"Experiment\", experiment_description)\n",
    "\n",
    "hparams = {'batch_size': batch_size, \n",
    "                    'hidden_dim': hidden_dim, \n",
    "                    'RNN hidden_layers': hidden_layers,\n",
    "                    'embedding_dim': embedding_dim,\n",
    "                    'dropout': dropout,\n",
    "                    'lr': optimizer.param_groups[-1]['lr'],\n",
    "                    'mixed precision': fp16,\n",
    "                    'gradient clipping': gradient_clip,\n",
    "                    'teacher forcing': teacher_forcing}\n",
    "\n",
    "writer.add_text(\"hparams\", json.dumps(hparams))"
   ]
  },
  {
   "cell_type": "code",
   "execution_count": null,
   "metadata": {},
   "outputs": [],
   "source": [
    "best_val_loss = float(\"inf\")\n",
    "\n",
    "best_model = None\n",
    "\n",
    "n_iter = 0\n",
    "\n",
    "train_per_epoch = len(train_iter)\n",
    "\n",
    "for epoch in range(epochs):\n",
    "    \n",
    "    epoch_loss = 0\n",
    "    \n",
    "    print(\"Epoch: {}, Started: {}\".format(epoch+1, time.ctime()))\n",
    "    print(\"---------------------------------------------------------\")\n",
    "    \n",
    "    kbar = pkbar.Kbar(target=train_per_epoch, epoch = epoch, num_epochs = epochs, width = 8, always_stateful = False)\n",
    "\n",
    "    if epoch > 5: ##Use SGD later in training\n",
    "            optimizer = configure_sgd(model)\n",
    "\n",
    "    \n",
    "    for batch_IDX, batch in enumerate(train_iter):    \n",
    "        \n",
    "        x, y = batch.eng, batch.spa\n",
    "        \n",
    "        x = x.to(device)\n",
    "        y = y.to(device)\n",
    "                \n",
    "        batch_loss = train_step(model, optimizer, x, y, teacher_forcing, gradient_clip, fp16)\n",
    "        \n",
    "        writer.add_scalar('Loss/Train', batch_loss, n_iter)\n",
    "        epoch_loss += batch_loss\n",
    "        \n",
    "        #if epoch == 0 or batch_IDX < 3:\n",
    "        #    torch.cuda.empty_cache()\n",
    "                \n",
    "        kbar.update(batch_IDX, values = [('loss', batch_loss)])\n",
    "        n_iter += 1\n",
    "        \n",
    "    val_loss = evaluate(model, val_iter)\n",
    "    \n",
    "    writer.add_scalar('Loss/Validation', val_loss, epoch)\n",
    "    \n",
    "    if val_loss < best_val_loss:\n",
    "        best_val_loss = val_loss\n",
    "        best_model = model\n",
    "\n",
    "    kbar.add(1, values= [('val_loss', val_loss)])\n",
    "    #scheduler.step()\n",
    "    #print(\"Epoch: {}, Mean Epoch Loss: {:.4f}, Valid Loss: {:.4f}, Learning Rate: {:.4f} \".format(epoch+1, epoch_loss / len(train_iter), val_loss, scheduler.get_lr()[0]))\n",
    "    \n",
    "    print(\"---------------------------------------------------------\")\n",
    "    print(\"\\n\")\n",
    "    \n"
   ]
  },
  {
   "cell_type": "code",
   "execution_count": null,
   "metadata": {},
   "outputs": [],
   "source": [
    "def generate_translation(model, sentence, max_len=10):\n",
    "    \n",
    "    model.eval()    \n",
    "    sentence = SRC.tokenize(sentence)\n",
    "    sentence = [[eng_vocab.stoi.get(token, eng_vocab.unk_index) for token in sentence]]\n",
    "    sentence = torch.LongTensor(sentence).to(device)\n",
    "    \n",
    "    encoder_hidden = model.encoder.initHidden(1).to(device)\n",
    "    encoder_outputs, encoder_hidden = model.encoder(sentence, encoder_hidden)\n",
    "    #encoder_outputs, encoder_hidden = model.encoder(sentence)\n",
    "\n",
    "    decoder_hidden = encoder_hidden\n",
    "    \n",
    "    del encoder_hidden\n",
    "    \n",
    "    word = [[2]]\n",
    "    word = torch.LongTensor(word).to(device)\n",
    "    \n",
    "    translation = []\n",
    "    \n",
    "    i = 0\n",
    "    word_str = None\n",
    "    while i < max_len and word_str != '<eos>':\n",
    "        context_vector = model.DotProductAttention(encoder_outputs, decoder_hidden)\n",
    "\n",
    "        decoder_out, decoder_hidden = model.decoder(word, decoder_hidden, context_vector)\n",
    "\n",
    "        logits = model.AttentionFC(decoder_out)\n",
    "\n",
    "        word = logits.argmax(dim=-1)\n",
    "        word_str = spa_vocab.itos[word.item()]\n",
    "        \n",
    "        translation.append(word_str)\n",
    "        i += 1\n",
    "    \n",
    "    return translation[::-1]"
   ]
  },
  {
   "cell_type": "code",
   "execution_count": null,
   "metadata": {},
   "outputs": [],
   "source": [
    "with torch.no_grad():\n",
    "    sentence = generate_translation(best_model, \"There are four main causes of alcohol-related death. Injury from car accidents or violence is one. Diseases like cirrhosis of the liver, cancer, heart and blood system diseases are the others.\")\n",
    "    print(' '.join(sentence))"
   ]
  },
  {
   "cell_type": "code",
   "execution_count": null,
   "metadata": {},
   "outputs": [],
   "source": [
    "evaluate(best_model, test_iter)"
   ]
  },
  {
   "cell_type": "code",
   "execution_count": null,
   "metadata": {},
   "outputs": [],
   "source": []
  }
 ],
 "metadata": {
  "kernelspec": {
   "display_name": "pytorch",
   "language": "python",
   "name": "pytorch"
  },
  "language_info": {
   "codemirror_mode": {
    "name": "ipython",
    "version": 3
   },
   "file_extension": ".py",
   "mimetype": "text/x-python",
   "name": "python",
   "nbconvert_exporter": "python",
   "pygments_lexer": "ipython3",
   "version": "3.8.12"
  }
 },
 "nbformat": 4,
 "nbformat_minor": 4
}

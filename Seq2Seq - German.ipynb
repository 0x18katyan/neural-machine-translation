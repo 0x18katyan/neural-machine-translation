{
 "cells": [
  {
   "cell_type": "code",
   "execution_count": 1,
   "metadata": {},
   "outputs": [],
   "source": [
    "import torch\n",
    "import torch.nn as nn\n",
    "\n",
    "import torch.nn.functional as F\n",
    "\n",
    "from torch.cuda.amp import autocast"
   ]
  },
  {
   "cell_type": "code",
   "execution_count": 2,
   "metadata": {},
   "outputs": [],
   "source": [
    "from torchtext.data import BucketIterator, Field, TabularDataset\n",
    "from torchtext.datasets import Multi30k"
   ]
  },
  {
   "cell_type": "code",
   "execution_count": 3,
   "metadata": {},
   "outputs": [],
   "source": [
    "import warnings\n",
    "warnings.filterwarnings('ignore')"
   ]
  },
  {
   "cell_type": "code",
   "execution_count": 4,
   "metadata": {},
   "outputs": [],
   "source": [
    "import random\n",
    "\n",
    "import time"
   ]
  },
  {
   "cell_type": "code",
   "execution_count": 5,
   "metadata": {},
   "outputs": [],
   "source": [
    "import spacy"
   ]
  },
  {
   "cell_type": "code",
   "execution_count": 6,
   "metadata": {},
   "outputs": [],
   "source": [
    "SEED = 42069\n",
    "\n",
    "random.seed(SEED)\n",
    "# np.random.seed(SEED)\n",
    "torch.manual_seed(SEED)\n",
    "torch.cuda.manual_seed(SEED)\n",
    "torch.backends.cudnn.deterministic = True"
   ]
  },
  {
   "cell_type": "code",
   "execution_count": 7,
   "metadata": {},
   "outputs": [],
   "source": [
    "device = \"cuda\" if torch.cuda.is_available() else \"cpu\""
   ]
  },
  {
   "cell_type": "code",
   "execution_count": 8,
   "metadata": {},
   "outputs": [],
   "source": [
    "spacy_de = spacy.load('de')\n",
    "spacy_en = spacy.load('en')"
   ]
  },
  {
   "cell_type": "code",
   "execution_count": 9,
   "metadata": {},
   "outputs": [],
   "source": [
    "def tokenize_de(text):\n",
    "    #return [tok.text for tok in spacy_esp.tokenizer(text)]\n",
    "    return [tok.text for tok in spacy_de.tokenizer(text)][::-1] ##Reversing as stated in seq2seq paper\n",
    "\n",
    "def tokenize_en(text):\n",
    "    return [tok.text for tok in spacy_en.tokenizer(text)]"
   ]
  },
  {
   "cell_type": "code",
   "execution_count": 10,
   "metadata": {},
   "outputs": [],
   "source": [
    "SRC = Field(sequential = True, \n",
    "            tokenize = tokenize_en, \n",
    "            init_token = \"<sos>\",\n",
    "            eos_token = \"<eos>\",\n",
    "            lower=True,\n",
    "            batch_first=True)"
   ]
  },
  {
   "cell_type": "code",
   "execution_count": 11,
   "metadata": {},
   "outputs": [],
   "source": [
    "# !python -m spacy download es_core_news_lg"
   ]
  },
  {
   "cell_type": "code",
   "execution_count": 12,
   "metadata": {},
   "outputs": [],
   "source": [
    "TRG = Field(sequential = True,\n",
    "           tokenize=tokenize_de,\n",
    "           init_token='<sos>',\n",
    "           eos_token='<eos>',\n",
    "           lower=True,\n",
    "           batch_first=True)"
   ]
  },
  {
   "cell_type": "code",
   "execution_count": 13,
   "metadata": {},
   "outputs": [],
   "source": [
    "datasetfields = [(\"eng\", SRC),(\"de\", TRG)]"
   ]
  },
  {
   "cell_type": "code",
   "execution_count": 14,
   "metadata": {},
   "outputs": [],
   "source": [
    "train_data, val_data, test_data = Multi30k.splits(exts = ('.en', '.de'), \n",
    "                                                    fields = (SRC, TRG))\n"
   ]
  },
  {
   "cell_type": "code",
   "execution_count": 15,
   "metadata": {},
   "outputs": [],
   "source": [
    "SRC.build_vocab(train_data, min_freq=1)\n",
    "TRG.build_vocab(train_data, min_freq=1)"
   ]
  },
  {
   "cell_type": "code",
   "execution_count": 16,
   "metadata": {},
   "outputs": [],
   "source": [
    "eng_vocab = SRC.vocab\n",
    "de_vocab = TRG.vocab"
   ]
  },
  {
   "cell_type": "code",
   "execution_count": 17,
   "metadata": {},
   "outputs": [],
   "source": [
    "batch_size = 32"
   ]
  },
  {
   "cell_type": "code",
   "execution_count": 18,
   "metadata": {},
   "outputs": [],
   "source": [
    "train_iter, val_iter, test_iter = BucketIterator.splits((train_data, val_data, test_data), batch_size=batch_size, sort_key=lambda x: len(x.src))"
   ]
  },
  {
   "cell_type": "code",
   "execution_count": 19,
   "metadata": {},
   "outputs": [],
   "source": [
    "class Encoder(nn.Module):\n",
    "    \n",
    "    def __init__(self, vocab, hidden_dim, encoder_embedding_dim, num_layers, dropout):\n",
    "        \n",
    "        super(Encoder, self).__init__() \n",
    "        \n",
    "        self.vocab_size = len(vocab.itos)\n",
    "        self.embedding_dim = encoder_embedding_dim\n",
    "        self.num_layers = num_layers\n",
    "        self.hidden_dim = hidden_dim\n",
    "        \n",
    "        self.emb = nn.Embedding(num_embeddings=self.vocab_size, embedding_dim=self.embedding_dim, padding_idx=1)\n",
    "        \n",
    "        self.GRU = nn.GRU(self.embedding_dim, hidden_dim, num_layers=self.num_layers, dropout=dropout, batch_first=True)\n",
    "        \n",
    "        self.dropout = nn.Dropout(dropout)\n",
    "        \n",
    "    def forward(self, sentence):\n",
    "        \n",
    "        embedded = self.dropout(self.emb(sentence))\n",
    "        \n",
    "        out, hidden_state = self.GRU(embedded)\n",
    "        \n",
    "        return out, hidden_state\n",
    "    \n",
    "    def initHidden(self, BATCH_SIZE):\n",
    "        return torch.zeros(self.num_layers, BATCH_SIZE ,self.hidden_dim)\n"
   ]
  },
  {
   "cell_type": "code",
   "execution_count": 20,
   "metadata": {},
   "outputs": [],
   "source": [
    "class Decoder(nn.Module):\n",
    "    \n",
    "    def __init__(self, vocab, hidden_dim, embedding_dim, num_layers, dropout):\n",
    "        \n",
    "        super(Decoder, self).__init__()\n",
    "        \n",
    "        self.vocab_size = len(vocab.itos)\n",
    "        self.hidden_dim = hidden_dim\n",
    "        self.num_layers = num_layers\n",
    "        self.embedding_dim = embedding_dim\n",
    "        \n",
    "        self.GRU = nn.GRU(self.embedding_dim, hidden_dim, num_layers=self.num_layers, batch_first=True, dropout=dropout)\n",
    "        \n",
    "        self.embedding = nn.Embedding(self.vocab_size, embedding_dim=self.embedding_dim, padding_idx=1)\n",
    "        \n",
    "        self.fc = nn.Linear(hidden_dim, self.vocab_size)\n",
    "        \n",
    "        self.dropout = nn.Dropout(dropout)\n",
    "        \n",
    "    def forward(self, y, hidden_state):\n",
    "        \n",
    "        y = self.dropout(self.embedding(y))\n",
    "        \n",
    "        lstm_out, decoder_hidden_state = self.GRU(y, hidden_state)\n",
    "        \n",
    "        logits = self.fc(lstm_out)\n",
    "                \n",
    "        return logits, decoder_hidden_state"
   ]
  },
  {
   "cell_type": "code",
   "execution_count": 21,
   "metadata": {},
   "outputs": [],
   "source": [
    "class Seq2Seq(nn.Module):\n",
    "    def __init__(self, hidden_dim, embedding_dim, hidden_layers, english_vocab, german_vocab, dropout):\n",
    "        super().__init__()\n",
    "        \n",
    "        self.hidden_dim = hidden_dim\n",
    "        self.embedding_dim = embedding_dim\n",
    "        self.hidden_layers = hidden_layers\n",
    "        \n",
    "        self.eng_vocab = english_vocab\n",
    "        self.spa_vocab = german_vocab\n",
    "        \n",
    "        self.encoder = Encoder(self.eng_vocab, hidden_dim, embedding_dim, hidden_layers, dropout)\n",
    "        self.decoder = Decoder(self.spa_vocab, hidden_dim, embedding_dim, hidden_layers, dropout)\n",
    "        \n",
    "    \n",
    "    def forward(self, x, y, teacher_forcing = 0):\n",
    "        self.encoder.train()\n",
    "        self.decoder.train()\n",
    "        \n",
    "        current_batch_size, max_seq_len = y.shape\n",
    "\n",
    "        #encoder_hidden = self.encoder.initHidden(current_batch_size).to(device)\n",
    "        #encoder_output, encoder_hidden = self.encoder.forward(x, encoder_hidden)\n",
    "        \n",
    "        encoder_output, encoder_hidden = self.encoder.forward(x)\n",
    "        decoder_hidden = encoder_hidden\n",
    "        \n",
    "        del encoder_hidden\n",
    "        \n",
    "        outputs = torch.zeros(size=(max_seq_len - 1, current_batch_size, self.decoder.vocab_size)).to(device)\n",
    "\n",
    "        prev_word = torch.zeros_like(y[:, 0])\n",
    "\n",
    "        for i in range(max_seq_len - 1):\n",
    "\n",
    "            if random.random() < teacher_forcing: #Teacher forcing\n",
    "                logits, decoder_hidden = self.decoder.forward(y[:, i].unsqueeze(1), decoder_hidden)\n",
    "            else:\n",
    "                logits, decoder_hidden = self.decoder.forward(prev_word.unsqueeze(1), decoder_hidden)  #Teacher forcing: Get random then pass i from y if > proba else pass previous scores: TODO\n",
    "\n",
    "            prev_word = logits.argmax(dim=-1).squeeze(1)\n",
    "\n",
    "            outputs[i] = logits.squeeze(1)\n",
    "        \n",
    "        return outputs"
   ]
  },
  {
   "cell_type": "code",
   "execution_count": 22,
   "metadata": {},
   "outputs": [],
   "source": [
    "hidden_dim = 2048\n",
    "hidden_layers = 4\n",
    "embedding_dim = 2048\n",
    "\n",
    "dropout = 0.7"
   ]
  },
  {
   "cell_type": "code",
   "execution_count": 23,
   "metadata": {},
   "outputs": [],
   "source": [
    "model = Seq2Seq(hidden_dim=hidden_dim, embedding_dim=embedding_dim, hidden_layers=hidden_layers, english_vocab=eng_vocab, german_vocab=de_vocab, dropout=dropout).to(device)"
   ]
  },
  {
   "cell_type": "code",
   "execution_count": 24,
   "metadata": {},
   "outputs": [],
   "source": [
    "def configure_optimizers(model, lr=1e-5, weight_decay=0):\n",
    "    return torch.optim.Adam(model.parameters(), lr=lr, weight_decay=weight_decay)"
   ]
  },
  {
   "cell_type": "code",
   "execution_count": 25,
   "metadata": {},
   "outputs": [],
   "source": [
    "#optimizer = configure_optimizers(model)\n",
    "\n",
    "lr = 2.0 # learning rate\n",
    "optimizer = torch.optim.SGD(model.parameters(), lr=lr)\n",
    "scheduler = torch.optim.lr_scheduler.StepLR(optimizer, 1.0, gamma=0.95)\n"
   ]
  },
  {
   "cell_type": "code",
   "execution_count": 26,
   "metadata": {},
   "outputs": [],
   "source": [
    "criterion = nn.CrossEntropyLoss(ignore_index=1)"
   ]
  },
  {
   "cell_type": "code",
   "execution_count": 27,
   "metadata": {},
   "outputs": [],
   "source": [
    "def train_step(model, optimizer, x, y, teacher_forcing = 0.5, clip=5.0, fp16=True):\n",
    "    \n",
    "    #torch.cuda.empty_cache()\n",
    "    \n",
    "    model.train()\n",
    "    \n",
    "    optimizer.zero_grad()\n",
    "    \n",
    "    with autocast(fp16):\n",
    "        outputs = model.forward(x, y, teacher_forcing)\n",
    "        loss = criterion(outputs.permute(1, 2, 0), y[:, 1:])\n",
    "        \n",
    "    loss.backward()\n",
    "    \n",
    "    torch.nn.utils.clip_grad_norm_(model.parameters(), clip)\n",
    "\n",
    "    optimizer.step()\n",
    "        \n",
    "    return loss"
   ]
  },
  {
   "cell_type": "code",
   "execution_count": 28,
   "metadata": {},
   "outputs": [],
   "source": [
    "def evaluate(model, iterator):\n",
    "    \n",
    "    model.eval()\n",
    "    \n",
    "    eval_loss = 0\n",
    "    \n",
    "    with torch.no_grad():\n",
    "        \n",
    "        for _, batch in enumerate(iterator):\n",
    "            \n",
    "            x, y = batch.src, batch.trg\n",
    "\n",
    "            x = x.to(device)\n",
    "            y = y.to(device)\n",
    "\n",
    "            outputs = model.forward(x, y, teacher_forcing=0)\n",
    "            loss = criterion(outputs.permute(1, 2, 0), y[:, 1:]) \n",
    "            \n",
    "            eval_loss += loss.item()\n",
    "            \n",
    "    return eval_loss / len(iterator)"
   ]
  },
  {
   "cell_type": "code",
   "execution_count": 29,
   "metadata": {},
   "outputs": [],
   "source": [
    "epochs = 50 # For 10 hours\n",
    "print_every = 100\n",
    "\n",
    "fp16=False"
   ]
  },
  {
   "cell_type": "code",
   "execution_count": 30,
   "metadata": {},
   "outputs": [
    {
     "name": "stdout",
     "output_type": "stream",
     "text": [
      "Epoch: 1, Started: Mon Dec 21 07:24:41 2020\n",
      "---------------------------------------------------------\n",
      "Epoch: 1, Batch: 300,   Batch Loss: 26.7632\n",
      "Epoch: 1, Batch: 600,   Batch Loss: 16.7126\n",
      "Epoch: 1, Batch: 900,   Batch Loss: 9.7947\n",
      "\n",
      "\n",
      "Epoch: 1, Mean Epoch Loss: 24.5180, Valid Loss: 10.2377, Learning Rate: 1.8050 \n",
      "---------------------------------------------------------\n",
      "\n",
      "\n",
      "Epoch: 2, Started: Mon Dec 21 07:28:36 2020\n",
      "---------------------------------------------------------\n",
      "Epoch: 2, Batch: 300,   Batch Loss: 8.2637\n",
      "Epoch: 2, Batch: 600,   Batch Loss: 7.6791\n",
      "Epoch: 2, Batch: 900,   Batch Loss: 6.9834\n",
      "\n",
      "\n",
      "Epoch: 2, Mean Epoch Loss: 8.0557, Valid Loss: 7.6885, Learning Rate: 1.7147 \n",
      "---------------------------------------------------------\n",
      "\n",
      "\n",
      "Epoch: 3, Started: Mon Dec 21 07:32:27 2020\n",
      "---------------------------------------------------------\n",
      "Epoch: 3, Batch: 300,   Batch Loss: 6.7800\n",
      "Epoch: 3, Batch: 600,   Batch Loss: 5.9203\n",
      "Epoch: 3, Batch: 900,   Batch Loss: 6.1028\n",
      "\n",
      "\n",
      "Epoch: 3, Mean Epoch Loss: 6.3409, Valid Loss: 6.2948, Learning Rate: 1.6290 \n",
      "---------------------------------------------------------\n",
      "\n",
      "\n",
      "Epoch: 4, Started: Mon Dec 21 07:36:09 2020\n",
      "---------------------------------------------------------\n",
      "Epoch: 4, Batch: 300,   Batch Loss: 6.4094\n",
      "Epoch: 4, Batch: 600,   Batch Loss: 5.7016\n",
      "Epoch: 4, Batch: 900,   Batch Loss: 5.8224\n",
      "\n",
      "\n",
      "Epoch: 4, Mean Epoch Loss: 5.9870, Valid Loss: 6.1425, Learning Rate: 1.5476 \n",
      "---------------------------------------------------------\n",
      "\n",
      "\n",
      "Epoch: 5, Started: Mon Dec 21 07:39:50 2020\n",
      "---------------------------------------------------------\n",
      "Epoch: 5, Batch: 300,   Batch Loss: 5.8516\n",
      "Epoch: 5, Batch: 600,   Batch Loss: 6.0251\n",
      "Epoch: 5, Batch: 900,   Batch Loss: 5.9603\n",
      "\n",
      "\n",
      "Epoch: 5, Mean Epoch Loss: 5.8767, Valid Loss: 5.9133, Learning Rate: 1.4702 \n",
      "---------------------------------------------------------\n",
      "\n",
      "\n",
      "Epoch: 6, Started: Mon Dec 21 07:43:31 2020\n",
      "---------------------------------------------------------\n"
     ]
    },
    {
     "ename": "KeyboardInterrupt",
     "evalue": "",
     "output_type": "error",
     "traceback": [
      "\u001b[0;31m---------------------------------------------------------------------------\u001b[0m",
      "\u001b[0;31mKeyboardInterrupt\u001b[0m                         Traceback (most recent call last)",
      "\u001b[0;32m<ipython-input-30-a49c288e71a2>\u001b[0m in \u001b[0;36m<module>\u001b[0;34m\u001b[0m\n\u001b[1;32m     19\u001b[0m         \u001b[0my\u001b[0m \u001b[0;34m=\u001b[0m \u001b[0my\u001b[0m\u001b[0;34m.\u001b[0m\u001b[0mto\u001b[0m\u001b[0;34m(\u001b[0m\u001b[0mdevice\u001b[0m\u001b[0;34m)\u001b[0m\u001b[0;34m\u001b[0m\u001b[0;34m\u001b[0m\u001b[0m\n\u001b[1;32m     20\u001b[0m \u001b[0;34m\u001b[0m\u001b[0m\n\u001b[0;32m---> 21\u001b[0;31m         \u001b[0mbatch_loss\u001b[0m \u001b[0;34m=\u001b[0m \u001b[0mtrain_step\u001b[0m\u001b[0;34m(\u001b[0m\u001b[0mmodel\u001b[0m\u001b[0;34m,\u001b[0m \u001b[0moptimizer\u001b[0m\u001b[0;34m,\u001b[0m \u001b[0mx\u001b[0m\u001b[0;34m,\u001b[0m \u001b[0my\u001b[0m\u001b[0;34m,\u001b[0m \u001b[0mfp16\u001b[0m\u001b[0;34m)\u001b[0m\u001b[0;34m\u001b[0m\u001b[0;34m\u001b[0m\u001b[0m\n\u001b[0m\u001b[1;32m     22\u001b[0m \u001b[0;34m\u001b[0m\u001b[0m\n\u001b[1;32m     23\u001b[0m         \u001b[0mepoch_loss\u001b[0m \u001b[0;34m+=\u001b[0m \u001b[0mbatch_loss\u001b[0m\u001b[0;34m\u001b[0m\u001b[0;34m\u001b[0m\u001b[0m\n",
      "\u001b[0;32m<ipython-input-27-399682d30349>\u001b[0m in \u001b[0;36mtrain_step\u001b[0;34m(model, optimizer, x, y, teacher_forcing, clip, fp16)\u001b[0m\n\u001b[1;32m     11\u001b[0m         \u001b[0mloss\u001b[0m \u001b[0;34m=\u001b[0m \u001b[0mcriterion\u001b[0m\u001b[0;34m(\u001b[0m\u001b[0moutputs\u001b[0m\u001b[0;34m.\u001b[0m\u001b[0mpermute\u001b[0m\u001b[0;34m(\u001b[0m\u001b[0;36m1\u001b[0m\u001b[0;34m,\u001b[0m \u001b[0;36m2\u001b[0m\u001b[0;34m,\u001b[0m \u001b[0;36m0\u001b[0m\u001b[0;34m)\u001b[0m\u001b[0;34m,\u001b[0m \u001b[0my\u001b[0m\u001b[0;34m[\u001b[0m\u001b[0;34m:\u001b[0m\u001b[0;34m,\u001b[0m \u001b[0;36m1\u001b[0m\u001b[0;34m:\u001b[0m\u001b[0;34m]\u001b[0m\u001b[0;34m)\u001b[0m\u001b[0;34m\u001b[0m\u001b[0;34m\u001b[0m\u001b[0m\n\u001b[1;32m     12\u001b[0m \u001b[0;34m\u001b[0m\u001b[0m\n\u001b[0;32m---> 13\u001b[0;31m     \u001b[0mloss\u001b[0m\u001b[0;34m.\u001b[0m\u001b[0mbackward\u001b[0m\u001b[0;34m(\u001b[0m\u001b[0;34m)\u001b[0m\u001b[0;34m\u001b[0m\u001b[0;34m\u001b[0m\u001b[0m\n\u001b[0m\u001b[1;32m     14\u001b[0m \u001b[0;34m\u001b[0m\u001b[0m\n\u001b[1;32m     15\u001b[0m     \u001b[0mtorch\u001b[0m\u001b[0;34m.\u001b[0m\u001b[0mnn\u001b[0m\u001b[0;34m.\u001b[0m\u001b[0mutils\u001b[0m\u001b[0;34m.\u001b[0m\u001b[0mclip_grad_norm_\u001b[0m\u001b[0;34m(\u001b[0m\u001b[0mmodel\u001b[0m\u001b[0;34m.\u001b[0m\u001b[0mparameters\u001b[0m\u001b[0;34m(\u001b[0m\u001b[0;34m)\u001b[0m\u001b[0;34m,\u001b[0m \u001b[0mclip\u001b[0m\u001b[0;34m)\u001b[0m\u001b[0;34m\u001b[0m\u001b[0;34m\u001b[0m\u001b[0m\n",
      "\u001b[0;32m~/anaconda3/envs/pytorch/lib/python3.8/site-packages/torch/tensor.py\u001b[0m in \u001b[0;36mbackward\u001b[0;34m(self, gradient, retain_graph, create_graph)\u001b[0m\n\u001b[1;32m    219\u001b[0m                 \u001b[0mretain_graph\u001b[0m\u001b[0;34m=\u001b[0m\u001b[0mretain_graph\u001b[0m\u001b[0;34m,\u001b[0m\u001b[0;34m\u001b[0m\u001b[0;34m\u001b[0m\u001b[0m\n\u001b[1;32m    220\u001b[0m                 create_graph=create_graph)\n\u001b[0;32m--> 221\u001b[0;31m         \u001b[0mtorch\u001b[0m\u001b[0;34m.\u001b[0m\u001b[0mautograd\u001b[0m\u001b[0;34m.\u001b[0m\u001b[0mbackward\u001b[0m\u001b[0;34m(\u001b[0m\u001b[0mself\u001b[0m\u001b[0;34m,\u001b[0m \u001b[0mgradient\u001b[0m\u001b[0;34m,\u001b[0m \u001b[0mretain_graph\u001b[0m\u001b[0;34m,\u001b[0m \u001b[0mcreate_graph\u001b[0m\u001b[0;34m)\u001b[0m\u001b[0;34m\u001b[0m\u001b[0;34m\u001b[0m\u001b[0m\n\u001b[0m\u001b[1;32m    222\u001b[0m \u001b[0;34m\u001b[0m\u001b[0m\n\u001b[1;32m    223\u001b[0m     \u001b[0;32mdef\u001b[0m \u001b[0mregister_hook\u001b[0m\u001b[0;34m(\u001b[0m\u001b[0mself\u001b[0m\u001b[0;34m,\u001b[0m \u001b[0mhook\u001b[0m\u001b[0;34m)\u001b[0m\u001b[0;34m:\u001b[0m\u001b[0;34m\u001b[0m\u001b[0;34m\u001b[0m\u001b[0m\n",
      "\u001b[0;32m~/anaconda3/envs/pytorch/lib/python3.8/site-packages/torch/autograd/__init__.py\u001b[0m in \u001b[0;36mbackward\u001b[0;34m(tensors, grad_tensors, retain_graph, create_graph, grad_variables)\u001b[0m\n\u001b[1;32m    128\u001b[0m         \u001b[0mretain_graph\u001b[0m \u001b[0;34m=\u001b[0m \u001b[0mcreate_graph\u001b[0m\u001b[0;34m\u001b[0m\u001b[0;34m\u001b[0m\u001b[0m\n\u001b[1;32m    129\u001b[0m \u001b[0;34m\u001b[0m\u001b[0m\n\u001b[0;32m--> 130\u001b[0;31m     Variable._execution_engine.run_backward(\n\u001b[0m\u001b[1;32m    131\u001b[0m         \u001b[0mtensors\u001b[0m\u001b[0;34m,\u001b[0m \u001b[0mgrad_tensors_\u001b[0m\u001b[0;34m,\u001b[0m \u001b[0mretain_graph\u001b[0m\u001b[0;34m,\u001b[0m \u001b[0mcreate_graph\u001b[0m\u001b[0;34m,\u001b[0m\u001b[0;34m\u001b[0m\u001b[0;34m\u001b[0m\u001b[0m\n\u001b[1;32m    132\u001b[0m         allow_unreachable=True)  # allow_unreachable flag\n",
      "\u001b[0;31mKeyboardInterrupt\u001b[0m: "
     ]
    }
   ],
   "source": [
    "best_val_loss = float(\"inf\")\n",
    "\n",
    "best_model = None\n",
    "\n",
    "\n",
    "for epoch in range(epochs):\n",
    "    \n",
    "    epoch_loss = 0\n",
    "    \n",
    "    print(\"Epoch: {}, Started: {}\".format(epoch+1, time.ctime()))\n",
    "    print(\"---------------------------------------------------------\")\n",
    "\n",
    "    \n",
    "    for batch_IDX, batch in enumerate(train_iter):    \n",
    "        \n",
    "        x, y = batch.src, batch.trg\n",
    "        \n",
    "        x = x.to(device)\n",
    "        y = y.to(device)\n",
    "\n",
    "        batch_loss = train_step(model, optimizer, x, y, fp16)\n",
    "\n",
    "        epoch_loss += batch_loss\n",
    "        \n",
    "        #if epoch == 0 or batch_IDX < 3:\n",
    "        #    torch.cuda.empty_cache()\n",
    "        \n",
    "        if batch_IDX % print_every == 0 and batch_IDX != 0:\n",
    "            print(\"Epoch: {}, Batch: {},   Batch Loss: {:.4f}\".format(epoch+1, batch_IDX, batch_loss))\n",
    "    \n",
    "    \n",
    "    val_loss = evaluate(model, val_iter)\n",
    "    if val_loss < best_val_loss:\n",
    "        best_val_loss = val_loss\n",
    "        best_model = model\n",
    "\n",
    "    scheduler.step()\n",
    "    \n",
    "    print(\"\\n\")\n",
    "    print(\"Epoch: {}, Mean Epoch Loss: {:.4f}, Valid Loss: {:.4f}, Learning Rate: {:.4f} \".format(epoch+1, epoch_loss / len(train_iter), val_loss, scheduler.get_lr()[0]))\n",
    "    print(\"---------------------------------------------------------\")\n",
    "    print(\"\\n\")\n",
    "    \n",
    "    "
   ]
  },
  {
   "cell_type": "code",
   "execution_count": null,
   "metadata": {},
   "outputs": [],
   "source": [
    "def generate_translation(encoder, decoder, sentence, max_len=30):\n",
    "    \n",
    "    encoder.eval()\n",
    "    decoder.eval()\n",
    "    \n",
    "    sentence = SRC.tokenize(sentence)\n",
    "    sentence = [[eng_vocab.stoi.get(token, eng_vocab.unk_index) for token in sentence]]\n",
    "    sentence = torch.LongTensor(sentence).to(device)\n",
    "    \n",
    "    #encoder_hidden = encoder.initHidden(1).to(device)\n",
    "    #_, encoder_hidden = encoder(sentence, encoder_hidden)\n",
    "    _, encoder_hidden = encoder(sentence)\n",
    "\n",
    "    decoder_hidden = encoder_hidden\n",
    "    \n",
    "    del encoder_hidden\n",
    "    \n",
    "    word = [[2]]\n",
    "    word = torch.LongTensor(word).to(device)\n",
    "    \n",
    "    translation = []\n",
    "    \n",
    "    i = 0\n",
    "    word_str = None\n",
    "    while i < max_len and word_str != '<eos>':\n",
    "        \n",
    "        decoder_out, decoder_hidden = decoder(word, decoder_hidden)\n",
    "        \n",
    "        word = decoder_out.argmax(dim=-1)\n",
    "        word_str = spa_vocab.itos[word.item()]\n",
    "        translation.append(word_str)\n",
    "        i += 1\n",
    "    \n",
    "    return translation[::-1][1:]"
   ]
  },
  {
   "cell_type": "code",
   "execution_count": null,
   "metadata": {},
   "outputs": [],
   "source": [
    "with torch.no_grad():\n",
    "    sentence = generate_translation(best_model.encoder, best_model.decoder, \"please\")\n",
    "    print(' '.join(sentence))"
   ]
  },
  {
   "cell_type": "code",
   "execution_count": null,
   "metadata": {},
   "outputs": [],
   "source": [
    "evaluate(model, test_iter)"
   ]
  },
  {
   "cell_type": "code",
   "execution_count": null,
   "metadata": {},
   "outputs": [],
   "source": []
  }
 ],
 "metadata": {
  "kernelspec": {
   "display_name": "Torch",
   "language": "python",
   "name": "pytorch"
  },
  "language_info": {
   "codemirror_mode": {
    "name": "ipython",
    "version": 3
   },
   "file_extension": ".py",
   "mimetype": "text/x-python",
   "name": "python",
   "nbconvert_exporter": "python",
   "pygments_lexer": "ipython3",
   "version": "3.8.5"
  }
 },
 "nbformat": 4,
 "nbformat_minor": 4
}

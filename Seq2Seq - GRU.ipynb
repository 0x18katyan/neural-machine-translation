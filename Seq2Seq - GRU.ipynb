{
 "cells": [
  {
   "cell_type": "code",
   "execution_count": null,
   "metadata": {},
   "outputs": [],
   "source": [
    "import torch\n",
    "import torch.nn as nn\n",
    "\n",
    "import torch.nn.functional as F\n",
    "\n",
    "from torch.cuda.amp import autocast, GradScaler\n",
    "\n",
    "from torch.utils.tensorboard import SummaryWriter"
   ]
  },
  {
   "cell_type": "code",
   "execution_count": null,
   "metadata": {},
   "outputs": [],
   "source": [
    "from torchtext.legacy.data import BucketIterator, Field, TabularDataset"
   ]
  },
  {
   "cell_type": "code",
   "execution_count": null,
   "metadata": {},
   "outputs": [],
   "source": [
    "import warnings\n",
    "warnings.filterwarnings('ignore')"
   ]
  },
  {
   "cell_type": "code",
   "execution_count": null,
   "metadata": {},
   "outputs": [],
   "source": [
    "import random\n",
    "import pkbar\n",
    "import time"
   ]
  },
  {
   "cell_type": "code",
   "execution_count": null,
   "metadata": {},
   "outputs": [],
   "source": [
    "import spacy"
   ]
  },
  {
   "cell_type": "code",
   "execution_count": null,
   "metadata": {},
   "outputs": [],
   "source": [
    "SEED = 42069\n",
    "\n",
    "random.seed(SEED)\n",
    "# np.random.seed(SEED)\n",
    "torch.manual_seed(SEED)\n",
    "torch.cuda.manual_seed(SEED)\n",
    "torch.backends.cudnn.deterministic = True"
   ]
  },
  {
   "cell_type": "code",
   "execution_count": null,
   "metadata": {},
   "outputs": [],
   "source": [
    "device = \"cuda\" if torch.cuda.is_available() else \"cpu\""
   ]
  },
  {
   "cell_type": "code",
   "execution_count": null,
   "metadata": {},
   "outputs": [],
   "source": [
    "scaler = GradScaler()"
   ]
  },
  {
   "cell_type": "code",
   "execution_count": null,
   "metadata": {},
   "outputs": [],
   "source": [
    "spacy_esp = spacy.load('es_core_news_sm')\n",
    "spacy_en = spacy.load('en_core_web_sm')"
   ]
  },
  {
   "cell_type": "code",
   "execution_count": null,
   "metadata": {},
   "outputs": [],
   "source": [
    "def tokenize_esp(text):\n",
    "    #return [tok.text for tok in spacy_esp.tokenizer(text)]\n",
    "    return [tok.text for tok in spacy_esp.tokenizer(text)][::-1] ##Reversing as stated in seq2seq paper\n",
    "\n",
    "def tokenize_en(text):\n",
    "    return [tok.text for tok in spacy_en.tokenizer(text)]"
   ]
  },
  {
   "cell_type": "code",
   "execution_count": null,
   "metadata": {},
   "outputs": [],
   "source": [
    "SRC = Field(sequential = True, \n",
    "            tokenize = tokenize_en, \n",
    "            init_token = \"<sos>\",\n",
    "            eos_token = \"<eos>\",\n",
    "            lower=True,\n",
    "            batch_first=True)"
   ]
  },
  {
   "cell_type": "code",
   "execution_count": null,
   "metadata": {},
   "outputs": [],
   "source": [
    "# !python -m spacy download es_core_news_lg"
   ]
  },
  {
   "cell_type": "code",
   "execution_count": null,
   "metadata": {},
   "outputs": [],
   "source": [
    "TRG = Field(sequential = True,\n",
    "           tokenize=tokenize_esp,\n",
    "           init_token='<sos>',\n",
    "           eos_token='<eos>',\n",
    "           lower=True,\n",
    "           batch_first=True)"
   ]
  },
  {
   "cell_type": "code",
   "execution_count": null,
   "metadata": {},
   "outputs": [],
   "source": [
    "datasetfields = [(\"eng\", SRC),(\"spa\", TRG)]"
   ]
  },
  {
   "cell_type": "code",
   "execution_count": null,
   "metadata": {},
   "outputs": [],
   "source": [
    "data =  TabularDataset('./eng-spa.csv', format='csv', fields=datasetfields, skip_header=True)"
   ]
  },
  {
   "cell_type": "code",
   "execution_count": null,
   "metadata": {},
   "outputs": [],
   "source": [
    "train_data, val_data, test_data = data.split([0.8, 0.1, 0.1])"
   ]
  },
  {
   "cell_type": "code",
   "execution_count": null,
   "metadata": {},
   "outputs": [],
   "source": [
    "SRC.build_vocab(train_data, min_freq=1)\n",
    "TRG.build_vocab(train_data, min_freq=1)"
   ]
  },
  {
   "cell_type": "code",
   "execution_count": null,
   "metadata": {},
   "outputs": [],
   "source": [
    "eng_vocab = SRC.vocab\n",
    "spa_vocab = TRG.vocab"
   ]
  },
  {
   "cell_type": "code",
   "execution_count": null,
   "metadata": {},
   "outputs": [],
   "source": [
    "batch_size = 128"
   ]
  },
  {
   "cell_type": "code",
   "execution_count": null,
   "metadata": {},
   "outputs": [],
   "source": [
    "train_iter, val_iter, test_iter = BucketIterator.splits((train_data, val_data, test_data), batch_size=batch_size, sort_key=lambda x: len(x.eng))"
   ]
  },
  {
   "cell_type": "code",
   "execution_count": null,
   "metadata": {},
   "outputs": [],
   "source": [
    "class Encoder(nn.Module):\n",
    "    \n",
    "    def __init__(self, vocab, hidden_dim, encoder_embedding_dim, num_layers, dropout):\n",
    "        \n",
    "        super(Encoder, self).__init__() \n",
    "        \n",
    "        self.vocab_size = len(vocab.itos)\n",
    "        self.embedding_dim = encoder_embedding_dim\n",
    "        self.num_layers = num_layers\n",
    "        self.hidden_dim = hidden_dim\n",
    "        \n",
    "        self.emb = nn.Embedding(num_embeddings=self.vocab_size, embedding_dim=self.embedding_dim, padding_idx=1)\n",
    "        \n",
    "        self.GRU = nn.GRU(self.embedding_dim, hidden_dim, num_layers=self.num_layers, dropout=dropout, batch_first=True)\n",
    "        \n",
    "        self.dropout = nn.Dropout(dropout)\n",
    "        \n",
    "    def forward(self, sentence):\n",
    "        \n",
    "        embedded = self.dropout(self.emb(sentence))\n",
    "        \n",
    "        out, hidden_state = self.GRU(embedded)\n",
    "        \n",
    "        return out, hidden_state\n",
    "    \n",
    "    def initHidden(self, BATCH_SIZE):\n",
    "        return torch.zeros(self.num_layers, BATCH_SIZE ,self.hidden_dim)\n"
   ]
  },
  {
   "cell_type": "code",
   "execution_count": null,
   "metadata": {},
   "outputs": [],
   "source": [
    "class Decoder(nn.Module):\n",
    "    \n",
    "    def __init__(self, vocab, hidden_dim, embedding_dim, num_layers, dropout):\n",
    "        \n",
    "        super(Decoder, self).__init__()\n",
    "        \n",
    "        self.vocab_size = len(vocab.itos)\n",
    "        self.hidden_dim = hidden_dim\n",
    "        self.num_layers = num_layers\n",
    "        self.embedding_dim = embedding_dim\n",
    "        \n",
    "        self.GRU = nn.GRU(self.embedding_dim, hidden_dim, num_layers=self.num_layers, batch_first=True, dropout=dropout)\n",
    "        \n",
    "        self.embedding = nn.Embedding(self.vocab_size, embedding_dim=self.embedding_dim, padding_idx=1)\n",
    "        \n",
    "        self.fc = nn.Linear(hidden_dim, self.vocab_size)\n",
    "        \n",
    "        self.dropout = nn.Dropout(dropout)\n",
    "        \n",
    "    def forward(self, y, hidden_state):\n",
    "        \n",
    "        y = self.dropout(self.embedding(y))\n",
    "        \n",
    "        lstm_out, decoder_hidden_state = self.GRU(y, hidden_state)\n",
    "        \n",
    "        logits = self.fc(lstm_out)\n",
    "                \n",
    "        return logits, decoder_hidden_state"
   ]
  },
  {
   "cell_type": "code",
   "execution_count": null,
   "metadata": {},
   "outputs": [],
   "source": [
    "class Seq2Seq(nn.Module):\n",
    "    def __init__(self, hidden_dim, embedding_dim, hidden_layers, english_vocab, spanish_vocab, dropout):\n",
    "        super().__init__()\n",
    "        \n",
    "        self.hidden_dim = hidden_dim\n",
    "        self.embedding_dim = embedding_dim\n",
    "        self.hidden_layers = hidden_layers\n",
    "        \n",
    "        self.eng_vocab = english_vocab\n",
    "        self.spa_vocab = spanish_vocab\n",
    "        \n",
    "        self.encoder = Encoder(self.eng_vocab, hidden_dim, embedding_dim, hidden_layers, dropout)\n",
    "        self.decoder = Decoder(self.spa_vocab, hidden_dim, embedding_dim, hidden_layers, dropout)\n",
    "        \n",
    "    \n",
    "    def forward(self, x, y, teacher_forcing = 0):\n",
    "        self.encoder.train()\n",
    "        self.decoder.train()\n",
    "        \n",
    "        current_batch_size, max_seq_len = y.shape\n",
    "\n",
    "        #encoder_hidden = self.encoder.initHidden(current_batch_size).to(device)\n",
    "        #encoder_output, encoder_hidden = self.encoder.forward(x, encoder_hidden)\n",
    "        \n",
    "        encoder_output, encoder_hidden = self.encoder.forward(x)\n",
    "        decoder_hidden = encoder_hidden\n",
    "        \n",
    "        del encoder_hidden\n",
    "        \n",
    "        outputs = torch.zeros(size=(max_seq_len - 1, current_batch_size, self.decoder.vocab_size)).to(device)\n",
    "\n",
    "        prev_word = torch.zeros_like(y[:, 0])\n",
    "\n",
    "        for i in range(max_seq_len - 1):\n",
    "\n",
    "            if random.random() < teacher_forcing: #Teacher forcing\n",
    "                logits, decoder_hidden = self.decoder.forward(y[:, i].unsqueeze(1), decoder_hidden)\n",
    "            else:\n",
    "                logits, decoder_hidden = self.decoder.forward(prev_word.unsqueeze(1), decoder_hidden)  #Teacher forcing: Get random then pass i from y if > proba else pass previous scores: TODO\n",
    "\n",
    "            prev_word = logits.argmax(dim=-1).squeeze(1)\n",
    "\n",
    "            outputs[i] = logits.squeeze(1)\n",
    "        \n",
    "        return outputs"
   ]
  },
  {
   "cell_type": "code",
   "execution_count": null,
   "metadata": {},
   "outputs": [],
   "source": [
    "hidden_dim = 1024\n",
    "hidden_layers = 2\n",
    "embedding_dim = 512\n",
    "\n",
    "dropout = 0.7"
   ]
  },
  {
   "cell_type": "code",
   "execution_count": null,
   "metadata": {},
   "outputs": [],
   "source": [
    "model = Seq2Seq(hidden_dim=hidden_dim, embedding_dim=embedding_dim, hidden_layers=hidden_layers, english_vocab=eng_vocab, spanish_vocab=spa_vocab, dropout=dropout).to(device)"
   ]
  },
  {
   "cell_type": "code",
   "execution_count": null,
   "metadata": {},
   "outputs": [],
   "source": [
    "def init_weights(model):\n",
    "    for param_name, parameter in model.named_parameters():\n",
    "        nn.init.uniform_(parameter.data, -0.08, 0.08)\n",
    "        \n",
    "model.apply(init_weights)"
   ]
  },
  {
   "cell_type": "code",
   "execution_count": null,
   "metadata": {},
   "outputs": [],
   "source": [
    "def configure_optimizers(model, lr=1e-5, weight_decay=0):\n",
    "    return torch.optim.Adam(model.parameters(), lr=lr, weight_decay=weight_decay)"
   ]
  },
  {
   "cell_type": "code",
   "execution_count": null,
   "metadata": {},
   "outputs": [],
   "source": [
    "optimizer = configure_optimizers(model)\n",
    "\n",
    "# lr = 2.0 # learning rate\n",
    "# optimizer = torch.optim.SGD(model.parameters(), lr=lr)\n",
    "# scheduler = torch.optim.lr_scheduler.StepLR(optimizer, 1.0, gamma=0.95)\n"
   ]
  },
  {
   "cell_type": "code",
   "execution_count": null,
   "metadata": {},
   "outputs": [],
   "source": [
    "criterion = nn.CrossEntropyLoss(ignore_index=1)"
   ]
  },
  {
   "cell_type": "code",
   "execution_count": null,
   "metadata": {},
   "outputs": [],
   "source": [
    "logdir = \"logs/seq2seqvanilla/{}\".format(time.ctime())\n",
    "writer = SummaryWriter(log_dir=logdir)"
   ]
  },
  {
   "cell_type": "code",
   "execution_count": null,
   "metadata": {},
   "outputs": [],
   "source": [
    "def train_step(model, optimizer, x, y, teacher_forcing = 0.8, clip=5.0, fp16=True):\n",
    "    \n",
    "    #torch.cuda.empty_cache()\n",
    "    \n",
    "    model.train()\n",
    "    \n",
    "    optimizer.zero_grad(set_to_none=True)\n",
    "    \n",
    "    with autocast(fp16):\n",
    "        outputs = model.forward(x, y, teacher_forcing)\n",
    "        loss = criterion(outputs.permute(1, 2, 0), y[:, 1:])\n",
    "        \n",
    "    scaler.scale(loss).backward()\n",
    "    \n",
    "    scaler.unscale_(optimizer) ##Need to unscale before clipping\n",
    "\n",
    "    torch.nn.utils.clip_grad_norm_(model.parameters(), clip)\n",
    "\n",
    "    scaler.step(optimizer)\n",
    "    \n",
    "    scaler.update()\n",
    "    \n",
    "    optimizer.zero_grad(set_to_none=True)\n",
    "        \n",
    "    return loss"
   ]
  },
  {
   "cell_type": "code",
   "execution_count": null,
   "metadata": {},
   "outputs": [],
   "source": [
    "def evaluate(model, iterator):\n",
    "    \n",
    "    model.eval()\n",
    "    \n",
    "    eval_loss = 0\n",
    "    \n",
    "    with torch.no_grad():\n",
    "        \n",
    "        for _, batch in enumerate(iterator):\n",
    "            \n",
    "            x, y = batch.eng, batch.spa\n",
    "\n",
    "            x = x.to(device)\n",
    "            y = y.to(device)\n",
    "\n",
    "            outputs = model.forward(x, y, teacher_forcing=0)\n",
    "            loss = criterion(outputs.permute(1, 2, 0), y[:, 1:]) \n",
    "            \n",
    "            eval_loss += loss.item()\n",
    "    \n",
    "    torch.cuda.empty_cache()\n",
    "    return eval_loss / len(iterator)"
   ]
  },
  {
   "cell_type": "code",
   "execution_count": null,
   "metadata": {},
   "outputs": [],
   "source": [
    "epochs = 100 # For 10 hours\n",
    "fp16=True"
   ]
  },
  {
   "cell_type": "code",
   "execution_count": null,
   "metadata": {},
   "outputs": [],
   "source": [
    "best_val_loss = float(\"inf\")\n",
    "\n",
    "best_model = None\n",
    "\n",
    "n_iter = 0\n",
    "\n",
    "train_per_epoch = len(train_iter)\n",
    "\n",
    "for epoch in range(epochs):\n",
    "    torch.cuda.empty_cache()\n",
    "    epoch_loss = 0\n",
    "    \n",
    "    print(\"Epoch: {}, Started: {}\".format(epoch+1, time.ctime()))\n",
    "    print(\"---------------------------------------------------------\")\n",
    "\n",
    "    kbar = pkbar.Kbar(target=train_per_epoch, epoch = epoch, num_epochs = epochs, width = 8, always_stateful = False)\n",
    "    \n",
    "    for batch_IDX, batch in enumerate(train_iter):    \n",
    "        \n",
    "        x, y = batch.eng, batch.spa\n",
    "        \n",
    "        x = x.to(device)\n",
    "        y = y.to(device)\n",
    "\n",
    "        batch_loss = train_step(model, optimizer, x, y, fp16)\n",
    "        \n",
    "        writer.add_scalar('Loss/Train', batch_loss, n_iter)\n",
    "\n",
    "        epoch_loss += batch_loss\n",
    "        \n",
    "        #if epoch == 0 or batch_IDX < 3:\n",
    "        #    torch.cuda.empty_cache()\n",
    "                \n",
    "        kbar.update(batch_IDX, values = [('loss', batch_loss)])\n",
    "        \n",
    "        n_iter +=1\n",
    "    \n",
    "    val_loss = evaluate(model, val_iter)\n",
    "    \n",
    "    writer.add_scalar('Loss/Validation', val_loss, epoch)\n",
    "\n",
    "    if val_loss < best_val_loss:\n",
    "        best_val_loss = val_loss\n",
    "        best_model = model\n",
    "    \n",
    "    kbar.add(1, values= [('val_loss', val_loss)])\n",
    "    #scheduler.step()\n",
    "    \n",
    "    print(\"\\n\")\n",
    "    #print(\"Epoch: {}, Mean Epoch Loss: {:.4f}, Valid Loss: {:.4f}, Learning Rate: {:.4f} \".format(epoch+1, epoch_loss / len(train_iter), val_loss, scheduler.get_lr()[0]))\n",
    "    print(\"---------------------------------------------------------\")\n",
    "    print(\"\\n\")\n",
    "    \n",
    "    "
   ]
  },
  {
   "cell_type": "code",
   "execution_count": null,
   "metadata": {},
   "outputs": [],
   "source": [
    "def generate_translation(encoder, decoder, sentence, max_len=30):\n",
    "    \n",
    "    encoder.eval()\n",
    "    decoder.eval()\n",
    "    \n",
    "    sentence = SRC.tokenize(sentence)\n",
    "    sentence = [[eng_vocab.stoi.get(token, eng_vocab.unk_index) for token in sentence]]\n",
    "    sentence = torch.LongTensor(sentence).to(device)\n",
    "    \n",
    "    #encoder_hidden = encoder.initHidden(1).to(device)\n",
    "    #_, encoder_hidden = encoder(sentence, encoder_hidden)\n",
    "    _, encoder_hidden = encoder(sentence)\n",
    "\n",
    "    decoder_hidden = encoder_hidden\n",
    "    \n",
    "    del encoder_hidden\n",
    "    \n",
    "    word = [[2]]\n",
    "    word = torch.LongTensor(word).to(device)\n",
    "    \n",
    "    translation = []\n",
    "    \n",
    "    i = 0\n",
    "    word_str = None\n",
    "    while i < max_len and word_str != '<eos>':\n",
    "        \n",
    "        decoder_out, decoder_hidden = decoder(word, decoder_hidden)\n",
    "        \n",
    "        word = decoder_out.argmax(dim=-1)\n",
    "        word_str = spa_vocab.itos[word.item()]\n",
    "        translation.append(word_str)\n",
    "        i += 1\n",
    "    \n",
    "    return translation[::-1][1:]"
   ]
  },
  {
   "cell_type": "code",
   "execution_count": null,
   "metadata": {},
   "outputs": [],
   "source": [
    "with torch.no_grad():\n",
    "    sentence = generate_translation(best_model.encoder, best_model.decoder, \"fuck you\")\n",
    "    print(' '.join(sentence))"
   ]
  },
  {
   "cell_type": "code",
   "execution_count": null,
   "metadata": {},
   "outputs": [],
   "source": [
    "evaluate(model, test_iter)"
   ]
  },
  {
   "cell_type": "code",
   "execution_count": null,
   "metadata": {},
   "outputs": [],
   "source": []
  }
 ],
 "metadata": {
  "kernelspec": {
   "display_name": "pytorch",
   "language": "python",
   "name": "pytorch"
  },
  "language_info": {
   "codemirror_mode": {
    "name": "ipython",
    "version": 3
   },
   "file_extension": ".py",
   "mimetype": "text/x-python",
   "name": "python",
   "nbconvert_exporter": "python",
   "pygments_lexer": "ipython3",
   "version": "3.8.12"
  }
 },
 "nbformat": 4,
 "nbformat_minor": 4
}

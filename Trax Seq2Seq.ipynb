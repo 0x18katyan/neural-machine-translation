{
 "cells": [
  {
   "cell_type": "code",
   "execution_count": 1,
   "metadata": {},
   "outputs": [],
   "source": [
    "%%capture\n",
    "import trax\n",
    "from trax import layers as tl\n",
    "from trax.fastmath import numpy as fastnp\n",
    "from trax.supervised import training"
   ]
  },
  {
   "cell_type": "code",
   "execution_count": 2,
   "metadata": {},
   "outputs": [],
   "source": [
    "import numpy as np\n",
    "import pandas as pd\n",
    "\n",
    "import random\n",
    "import os\n",
    "\n",
    "from sklearn.model_selection import train_test_split"
   ]
  },
  {
   "cell_type": "code",
   "execution_count": 3,
   "metadata": {},
   "outputs": [],
   "source": [
    "#!pip install sentencepiece\n",
    "import sentencepiece as spm\n",
    "from unicodedata import normalize"
   ]
  },
  {
   "cell_type": "code",
   "execution_count": 4,
   "metadata": {},
   "outputs": [],
   "source": [
    "df = pd.read_csv('./eng-spa.csv')\n",
    "train_data, test_data = train_test_split(df)"
   ]
  },
  {
   "cell_type": "code",
   "execution_count": 5,
   "metadata": {},
   "outputs": [],
   "source": [
    "def generate_txt(filepath, data):\n",
    "    texts = [example for example in data] # Decode the byte sequences\n",
    "    text = '\\n\\n'.join(texts)       # Separate different articles by two newlines\n",
    "    text = normalize('NFKC', text)  # Normalize the text\n",
    "\n",
    "    with open(filepath, 'w') as fw:\n",
    "        fw.write(text)"
   ]
  },
  {
   "cell_type": "code",
   "execution_count": 6,
   "metadata": {},
   "outputs": [
    {
     "data": {
      "text/plain": [
       "True"
      ]
     },
     "execution_count": 6,
     "metadata": {},
     "output_type": "execute_result"
    }
   ],
   "source": [
    "english_text_path = 'eng.txt'\n",
    "spanish_text_path = 'spa.txt'\n",
    "\n",
    "generate_txt(english_text_path, df['eng'])\n",
    "generate_txt(spanish_text_path, df['spa'])\n",
    "\n",
    "english_vocab_size = 30000\n",
    "spanish_vocab_size = 30000\n",
    "\n",
    "model_dir = './sentencepiece/'\n",
    "os.makedirs(model_dir, exist_ok=True)\n",
    "\n",
    "spm.SentencePieceTrainer.train('--input={} --model_prefix={}en_bpe --vocab_size={} --model_type=bpe'.format(english_text_path, model_dir, english_vocab_size))\n",
    "spm.SentencePieceTrainer.train('--input={} --model_prefix={}esp_bpe --vocab_size={} --model_type=bpe'.format(spanish_text_path, model_dir, spanish_vocab_size))\n",
    "\n",
    "en_tokenizer = spm.SentencePieceProcessor(add_eos=True, add_bos=False)\n",
    "en_tokenizer.load(model_dir+'en_bpe.model')\n",
    "\n",
    "esp_tokenizer = spm.SentencePieceProcessor(add_eos=True, add_bos=False)\n",
    "esp_tokenizer.load(model_dir+'esp_bpe.model')"
   ]
  },
  {
   "cell_type": "code",
   "execution_count": 7,
   "metadata": {},
   "outputs": [],
   "source": [
    "def data_generator(dataset, en_tokenizer, esp_tokenizer):\n",
    "    while True:\n",
    "        index = random.choice(df.index)\n",
    "        data = df.iloc[index]\n",
    "        eng = en_tokenizer.Tokenize(data['eng'])\n",
    "        spa = esp_tokenizer.Tokenize(data['spa'])\n",
    "        yield np.array(eng), np.array(spa)"
   ]
  },
  {
   "cell_type": "code",
   "execution_count": 8,
   "metadata": {},
   "outputs": [
    {
     "data": {
      "text/plain": [
       "(array([    9, 29965, 29954,   118,   185,  1620, 29953,     2]),\n",
       " array([   61,   387,  1042,  3310, 29949,     2]))"
      ]
     },
     "execution_count": 8,
     "metadata": {},
     "output_type": "execute_result"
    }
   ],
   "source": [
    "next(data_generator(df, en_tokenizer, esp_tokenizer))"
   ]
  },
  {
   "cell_type": "code",
   "execution_count": 9,
   "metadata": {},
   "outputs": [],
   "source": [
    "boundaries=[16, 32, 128, 512, 2048]\n",
    "batch_sizes=[512, 256, 64, 32, 16, 1]"
   ]
  },
  {
   "cell_type": "code",
   "execution_count": 10,
   "metadata": {},
   "outputs": [],
   "source": [
    "data_pipeline = trax.data.Serial(\n",
    "                trax.data.Shuffle(),\n",
    "                trax.data.FilterByLength(max_length=2048),\n",
    "                trax.data.BucketByLength(boundaries, batch_sizes,length_keys=[0, 1]),\n",
    "                trax.data.AddLossWeights(id_to_mask=0)\n",
    "                )"
   ]
  },
  {
   "cell_type": "code",
   "execution_count": 11,
   "metadata": {},
   "outputs": [],
   "source": [
    "train_batch_stream = data_pipeline(data_generator(df, en_tokenizer, esp_tokenizer))"
   ]
  },
  {
   "cell_type": "code",
   "execution_count": 12,
   "metadata": {},
   "outputs": [],
   "source": [
    "def input_encoder_fn(input_vocab_size, d_model, n_encoder_layers):\n",
    "    \n",
    "    input_encoder = tl.Serial(\n",
    "            tl.Embedding(input_vocab_size, d_model),\n",
    "            [tl.LSTM(d_model) for _ in n_encoder_layers])\n",
    "    \n",
    "    return input_encoder"
   ]
  },
  {
   "cell_type": "code",
   "execution_count": 13,
   "metadata": {},
   "outputs": [],
   "source": [
    "def pre_attention_decoder_fn(mode, target_vocab_size, d_model):\n",
    "    \n",
    "    pre_attention_decoder = tl.Serial(\n",
    "            tl.ShiftRight(mode=mode),\n",
    "            tl.Embedding(target_vocab_size, d_model),\n",
    "            tl.LSTM(d_model))\n",
    "    \n",
    "    return pre_attention_decoder"
   ]
  },
  {
   "cell_type": "code",
   "execution_count": 14,
   "metadata": {},
   "outputs": [],
   "source": [
    "## The input encoder outputs are the keys and values for attention.\n",
    "## Mask are used for softmax to not compute probabilities for it."
   ]
  },
  {
   "cell_type": "code",
   "execution_count": 16,
   "metadata": {},
   "outputs": [],
   "source": [
    "def prepare_attention_input(encoder_activations, decoder_activations, inputs):\n",
    "    \n",
    "    # set the keys and values to the encoder activations\n",
    "    keys = values = encoder_activations\n",
    "    \n",
    "    #set the queries to decoder activations\n",
    "    queries = decoder_activations\n",
    "    \n",
    "    mask = (inputs != 0)\n",
    "    \n",
    "    #Add axes to the mask for attention heads and decoder length\n",
    "    mask = fastnp.reshape(mask, (mask.shape[0], 1, 1, mask.shape[1]))\n",
    "    \n",
    "    #Broadcast so mask shape is [batch_size, attention heads, decoder-len, encoder-len]\n",
    "    mask = mask + fastnp.zeros((1, 1, decoder_activations.shape[1], 1))\n",
    "    \n",
    "    return queries, keys, values, mask"
   ]
  },
  {
   "cell_type": "code",
   "execution_count": 17,
   "metadata": {},
   "outputs": [],
   "source": [
    "def AttentionQKV(d_feature, n_heads=1, dropout=0.0, mode='train'):\n",
    "    return tl.Serial(\n",
    "            tl.Parallel(\n",
    "            tl.Dense(d_feature),\n",
    "            tl.Dense(d_feature),\n",
    "            tl.Dense(d_feature),\n",
    "            ),\n",
    "            tl.PureAttention(\n",
    "                n_heads=n_heads, dropout=dropout, mode=mode),\n",
    "            tl.Dense(d_feature),\n",
    "    )"
   ]
  },
  {
   "cell_type": "code",
   "execution_count": null,
   "metadata": {},
   "outputs": [],
   "source": []
  }
 ],
 "metadata": {
  "kernelspec": {
   "display_name": "Trax",
   "language": "python",
   "name": "trax"
  },
  "language_info": {
   "codemirror_mode": {
    "name": "ipython",
    "version": 3
   },
   "file_extension": ".py",
   "mimetype": "text/x-python",
   "name": "python",
   "nbconvert_exporter": "python",
   "pygments_lexer": "ipython3",
   "version": "3.8.5"
  }
 },
 "nbformat": 4,
 "nbformat_minor": 4
}
